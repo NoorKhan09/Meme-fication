{
 "cells": [
  {
   "cell_type": "code",
   "execution_count": 1,
   "id": "a39496af",
   "metadata": {},
   "outputs": [],
   "source": [
    "import numpy as np\n",
    "import pandas as pd\n",
    "import os\n",
    "import skimage.io\n"
   ]
  },
  {
   "cell_type": "code",
   "execution_count": 2,
   "id": "c01bd81a",
   "metadata": {},
   "outputs": [],
   "source": [
    "from skimage.io import imread\n",
    "from skimage.transform import resize"
   ]
  },
  {
   "cell_type": "code",
   "execution_count": 3,
   "id": "11ec8239",
   "metadata": {},
   "outputs": [],
   "source": [
    "from skimage import feature\n",
    "import matplotlib.pyplot as plt"
   ]
  },
  {
   "cell_type": "code",
   "execution_count": 4,
   "id": "21fe3c97",
   "metadata": {},
   "outputs": [],
   "source": [
    "import torch\n"
   ]
  },
  {
   "cell_type": "code",
   "execution_count": 5,
   "id": "fa6460ec",
   "metadata": {},
   "outputs": [],
   "source": [
    "from sklearn.preprocessing import LabelEncoder"
   ]
  },
  {
   "cell_type": "code",
   "execution_count": 11,
   "id": "140db1d2",
   "metadata": {},
   "outputs": [],
   "source": [
    "image_dir = \"your dataset\"\n",
    "os.chdir(image_dir)\n",
    "AllImages = os.listdir()\n",
    "AllImages"
   ]
  },
  {
   "cell_type": "markdown",
   "id": "970f65cf",
   "metadata": {},
   "source": [
    "# Image processing."
   ]
  },
  {
   "cell_type": "code",
   "execution_count": 12,
   "id": "96208be4",
   "metadata": {},
   "outputs": [],
   "source": [
    "image_dir = \"your dataset\"\n",
    "os.chdir(image_dir)\n",
    "os.getcwd()"
   ]
  },
  {
   "cell_type": "code",
   "execution_count": 8,
   "id": "21c52dfe",
   "metadata": {},
   "outputs": [],
   "source": [
    "image_dir = \"your dataset\"\n",
    "os.chdir(image_dir)\n",
    "x = []\n",
    "for i in os.listdir(image_dir):\n",
    "    try:\n",
    "        os.chdir(image_dir)\n",
    "        img = imread(i,as_gray = True)\n",
    "        image = resize(img,(350,350))\n",
    "        can = feature.canny(image)   #canny\n",
    "        os.chdir(image_features)\n",
    "        plt.imsave(i,can,cmap = 'gray')\n",
    "    except:\n",
    "        x.append(i)"
   ]
  },
  {
   "cell_type": "markdown",
   "id": "3ee7cfe4",
   "metadata": {},
   "source": [
    "# Text processing."
   ]
  },
  {
   "cell_type": "code",
   "execution_count": 13,
   "id": "a8dc2b18",
   "metadata": {},
   "outputs": [],
   "source": [
    "\n",
    "import pandas as pd\n",
    "csv = pd.read_csv('your data.csv')\n",
    "# csv\n",
    "import pickle as pkl\n",
    "df = pkl.load(open('pklfile','rb'))\n"
   ]
  },
  {
   "cell_type": "code",
   "execution_count": null,
   "id": "117a894c",
   "metadata": {},
   "outputs": [],
   "source": []
  },
  {
   "cell_type": "code",
   "execution_count": null,
   "id": "62a514be",
   "metadata": {},
   "outputs": [],
   "source": [
    "charachters = []\n",
    "charachters.append('/0')\n",
    "text_vals = df['text_ocr'].values\n",
    "for t in text_vals:\n",
    "    for c in str(t):\n",
    "        if c not in charachters:\n",
    "            charachters.append(c)\n"
   ]
  },
  {
   "cell_type": "code",
   "execution_count": null,
   "id": "e6254afb",
   "metadata": {},
   "outputs": [],
   "source": [
    "le = LabelEncoder()\n",
    "# le.fit([1, 2, 2, 6])\n",
    "\n",
    "le.fit(charachters)\n"
   ]
  },
  {
   "cell_type": "code",
   "execution_count": null,
   "id": "f3d38955",
   "metadata": {},
   "outputs": [],
   "source": [
    "max_len = 0\n",
    "for t in text_vals:\n",
    "    max_len = max(max_len,len(list(str(t))))"
   ]
  },
  {
   "cell_type": "code",
   "execution_count": null,
   "id": "c0d630f7",
   "metadata": {},
   "outputs": [],
   "source": [
    "max_len"
   ]
  },
  {
   "cell_type": "code",
   "execution_count": null,
   "id": "0769a9bb",
   "metadata": {},
   "outputs": [],
   "source": [
    "le.transform(list(text_vals[0]))"
   ]
  },
  {
   "cell_type": "code",
   "execution_count": null,
   "id": "3e500633",
   "metadata": {},
   "outputs": [],
   "source": [
    "import numpy as np"
   ]
  },
  {
   "cell_type": "code",
   "execution_count": null,
   "id": "7182f5b4",
   "metadata": {},
   "outputs": [],
   "source": [
    "2 * 3 + 3*4 - 4*5"
   ]
  },
  {
   "cell_type": "code",
   "execution_count": null,
   "id": "0144479b",
   "metadata": {},
   "outputs": [],
   "source": [
    "np.e * -2"
   ]
  },
  {
   "cell_type": "code",
   "execution_count": null,
   "id": "9f42a9bd",
   "metadata": {},
   "outputs": [],
   "source": [
    "def get_text(idx):\n",
    "    l = list(text_vals[idx])\n",
    "    while len(l) != 1026:\n",
    "        l.append(' ')\n",
    "    text = le.transform(l)\n",
    "    return torch.tensor(text,dtype=torch.float)"
   ]
  },
  {
   "cell_type": "code",
   "execution_count": 18,
   "id": "3bcebaa0",
   "metadata": {},
   "outputs": [],
   "source": [
    "import torch.nn as nn\n",
    "import torch"
   ]
  },
  {
   "cell_type": "markdown",
   "id": "e39f13ac",
   "metadata": {},
   "source": [
    "# Neural Network Class"
   ]
  },
  {
   "cell_type": "code",
   "execution_count": 34,
   "id": "6c3f4232",
   "metadata": {},
   "outputs": [],
   "source": [
    "class NeuralNetwork(nn.Module):\n",
    "    def __init__(self):\n",
    "        super(NeuralNetwork, self).__init__()\n",
    "        self.flatten = nn.Flatten()\n",
    "        self.TextLayers = nn.Sequential(\n",
    "            nn.Linear(1026, 500),\n",
    "            nn.ReLU(),\n",
    "            nn.Linear(500, 100),\n",
    "        )\n",
    "        self.ImageLayers = nn.Sequential(\n",
    "            nn.Linear(350*350, 500),\n",
    "            nn.ReLU(),\n",
    "            nn.Linear(500, 100),\n",
    "        )\n",
    "        \n",
    "        \n",
    "        self.Combined = nn.Sequential(\n",
    "            nn.Linear(200, 500),\n",
    "            nn.ReLU(),\n",
    "            nn.Linear(500, 100),\n",
    "            nn.ReLU(),\n",
    "            nn.Linear(100, 100),\n",
    "        )\n",
    "        \n",
    "        self.Humour = nn.Sequential(\n",
    "            nn.Linear(100, 500),\n",
    "            nn.ReLU(),\n",
    "            nn.Linear(500, 100),\n",
    "            nn.ReLU(),\n",
    "            nn.Linear(100, 2),\n",
    "        )\n",
    "        \n",
    "        self.sarcastic = nn.Sequential(\n",
    "            nn.Linear(100, 500),\n",
    "            nn.ReLU(),\n",
    "            nn.Linear(500, 100),\n",
    "            nn.ReLU(),\n",
    "            nn.Linear(100, 2),\n",
    "\n",
    "        )\n",
    "        \n",
    "        self.motivational = nn.Sequential(\n",
    "            nn.Linear(100, 500),\n",
    "            nn.ReLU(),\n",
    "            nn.Linear(500, 100),\n",
    "            nn.ReLU(),\n",
    "            nn.Linear(100, 2),\n",
    "\n",
    "        )\n",
    "        \n",
    "        self.offensive= nn.Sequential(\n",
    "            nn.Linear(100, 500),\n",
    "            nn.ReLU(),\n",
    "            nn.Linear(500, 100),\n",
    "            nn.ReLU(),\n",
    "            nn.Linear(100, 2),\n",
    "\n",
    "        )\n",
    "        \n",
    "\n",
    "    def forward(self, image, text):\n",
    "        text_out = self.TextLayers(text)\n",
    "        image_out = self.ImageLayers(image)\n",
    "        combined = torch.cat([text_out,image_out])\n",
    "        out = self.Combined(combined)\n",
    "        offence = self.offensive(out)\n",
    "        motiv = self.motivational(out)\n",
    "        sarc = self.sarcastic(out)\n",
    "        humo = self.Humour(out)\n",
    "\n",
    "\n",
    "\n",
    "        return offence, motiv,sarc,humo"
   ]
  },
  {
   "cell_type": "code",
   "execution_count": null,
   "id": "2227aea9",
   "metadata": {},
   "outputs": [],
   "source": []
  },
  {
   "cell_type": "code",
   "execution_count": 35,
   "id": "3e096df9",
   "metadata": {},
   "outputs": [],
   "source": [
    "def get_image(idx):\n",
    "    try:\n",
    "        return torch.tensor(imread(f'features/image_{idx}.jpg',as_gray=True).flatten(),dtype=torch.float)    \n",
    "    except:\n",
    "        return torch.tensor(imread(f'features/image_{idx}.png',as_gray=True).flatten(),dtype=torch.float)    \n",
    "\n"
   ]
  },
  {
   "cell_type": "code",
   "execution_count": 14,
   "id": "3dcfeec7",
   "metadata": {},
   "outputs": [],
   "source": [
    "img = get_image(1)"
   ]
  },
  {
   "cell_type": "code",
   "execution_count": 15,
   "id": "73d6a799",
   "metadata": {},
   "outputs": [],
   "source": [
    "text = get_text(1)"
   ]
  },
  {
   "cell_type": "code",
   "execution_count": 38,
   "id": "a95cedb1",
   "metadata": {},
   "outputs": [],
   "source": [
    "model = NeuralNetwork()"
   ]
  },
  {
   "cell_type": "code",
   "execution_count": 39,
   "id": "79fb1292",
   "metadata": {},
   "outputs": [],
   "source": [
    "img = torch.rand(350*350)\n",
    "text = torch.rand(1026)"
   ]
  },
  {
   "cell_type": "code",
   "execution_count": 40,
   "id": "0204cf18",
   "metadata": {},
   "outputs": [],
   "source": [
    "y = model(img,text)"
   ]
  },
  {
   "cell_type": "code",
   "execution_count": 41,
   "id": "44857bf2",
   "metadata": {},
   "outputs": [],
   "source": [
    "import torchviz"
   ]
  },
  {
   "cell_type": "code",
   "execution_count": 16,
   "id": "12a1c8a3",
   "metadata": {},
   "outputs": [],
   "source": [
    "os.getcwd()"
   ]
  },
  {
   "cell_type": "markdown",
   "id": "b6575696",
   "metadata": {},
   "source": [
    "# Graph using torchviz"
   ]
  },
  {
   "cell_type": "code",
   "execution_count": 43,
   "id": "82fad7fb",
   "metadata": {
    "scrolled": false
   },
   "outputs": [
    {
     "data": {
      "text/plain": [
       "'mymodel2.png'"
      ]
     },
     "execution_count": 43,
     "metadata": {},
     "output_type": "execute_result"
    }
   ],
   "source": [
    "torchviz.make_dot(y).render('mymodel2',format=\"png\")"
   ]
  },
  {
   "cell_type": "code",
   "execution_count": 17,
   "id": "2a4da16f",
   "metadata": {},
   "outputs": [],
   "source": [
    "os.getcwd()"
   ]
  },
  {
   "cell_type": "code",
   "execution_count": null,
   "id": "4144264e",
   "metadata": {},
   "outputs": [],
   "source": []
  }
 ],
 "metadata": {
  "kernelspec": {
   "display_name": "Python 3 (ipykernel)",
   "language": "python",
   "name": "python3"
  },
  "language_info": {
   "codemirror_mode": {
    "name": "ipython",
    "version": 3
   },
   "file_extension": ".py",
   "mimetype": "text/x-python",
   "name": "python",
   "nbconvert_exporter": "python",
   "pygments_lexer": "ipython3",
   "version": "3.9.7"
  }
 },
 "nbformat": 4,
 "nbformat_minor": 5
}
